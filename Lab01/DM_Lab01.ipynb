{
  "nbformat": 4,
  "nbformat_minor": 0,
  "metadata": {
    "colab": {
      "provenance": [],
      "gpuType": "T4"
    },
    "kernelspec": {
      "name": "python3",
      "display_name": "Python 3"
    },
    "language_info": {
      "name": "python"
    },
    "accelerator": "GPU"
  },
  "cells": [
    {
      "cell_type": "markdown",
      "source": [
        "**Khai phá dữ liệu - 21TTH KDL**\n",
        "\n",
        "Họ và tên: Lâm Gia Phú\n",
        "\n",
        "Mã số sinh viên: 21281004\n",
        "\n",
        "Bài tập về nhà tuần 1\n"
      ],
      "metadata": {
        "id": "IqwtBpi8roWw"
      }
    },
    {
      "cell_type": "markdown",
      "source": [
        "# Yêu cầu 1: Cài đặt và thực thi mục 1 trên máy tính"
      ],
      "metadata": {
        "id": "HpBnyKoUdQ7o"
      }
    },
    {
      "cell_type": "code",
      "source": [
        "from google.colab import drive\n",
        "drive.mount('/content/drive')"
      ],
      "metadata": {
        "id": "HjQ1BKYksPgC",
        "colab": {
          "base_uri": "https://localhost:8080/"
        },
        "outputId": "bcc18e94-e18d-45d1-c0c8-9b75c0d41b1a"
      },
      "execution_count": null,
      "outputs": [
        {
          "output_type": "stream",
          "name": "stdout",
          "text": [
            "Drive already mounted at /content/drive; to attempt to forcibly remount, call drive.mount(\"/content/drive\", force_remount=True).\n"
          ]
        }
      ]
    },
    {
      "cell_type": "code",
      "execution_count": null,
      "metadata": {
        "colab": {
          "base_uri": "https://localhost:8080/"
        },
        "id": "8pIeksJcPu5n",
        "outputId": "d56391ea-b6b7-4669-ea96-67c163c8da01"
      },
      "outputs": [
        {
          "output_type": "stream",
          "name": "stdout",
          "text": [
            "   First Name Last Name  Age Gender Department  Salary Date of Joining\n",
            "ID                                                                    \n",
            "1        John       Doe   25      M      Sales    50.0        1/1/2020\n",
            "2        Jane     Smith   30      F  Marketing    60.0        6/1/2018\n",
            "3         Bod   Johnson   45      M         HR    70.0        9/1/2016\n",
            "4       Alice  Williams   33      F         IT    80.0        2/1/2017\n",
            "5       James     Brown   27      M      Sales    55.0        3/1/2019\n",
            "6       Sarah       Lee   32      F  Marketing    65.0       12/1/2018\n",
            "7     Michael     Davis   39      M         HR     NaN        8/1/2015\n",
            "8       Susan    Miller   42      F         IT    90.0       11/1/2014\n",
            "9       David    Wilson   28      M      Sales    60.0        5/1/2020\n",
            "10      Emily     Brown   35      F  Marketing    55.0        4/1/2017\n",
            "11       John       Doe   25      M      Sales    50.0        1/1/2020\n",
            "12       John       Doe   25      M      Sales    50.0        1/1/2020\n"
          ]
        }
      ],
      "source": [
        "import pandas as pd\n",
        "import numpy as np\n",
        "from sklearn import preprocessing\n",
        "\n",
        "# Load dữ liệu\n",
        "df = pd.read_csv('/content/drive/MyDrive/HCMUS-DM/Lab01/data.csv', delimiter=',')\n",
        "\n",
        "\n",
        "df = df.set_index('ID')\n",
        "print(df)"
      ]
    },
    {
      "cell_type": "code",
      "source": [
        "#2. Kiểm tra các giá trị missing\n",
        "print(df.isnull().sum())\n",
        "\n",
        "#làm đầy các giá trị missing bằng giá trị trung bình\n",
        "df['Salary'].fillna(df['Salary'].mean(), inplace = True)"
      ],
      "metadata": {
        "colab": {
          "base_uri": "https://localhost:8080/"
        },
        "id": "MEeXQ1k0R82a",
        "outputId": "4f454423-086b-4c03-aa75-eaca61fb244b"
      },
      "execution_count": null,
      "outputs": [
        {
          "output_type": "stream",
          "name": "stdout",
          "text": [
            "First Name         0\n",
            "Last Name          0\n",
            "Age                0\n",
            "Gender             0\n",
            "Department         0\n",
            "Salary             1\n",
            "Date of Joining    0\n",
            "dtype: int64\n"
          ]
        }
      ]
    },
    {
      "cell_type": "code",
      "source": [
        "# 3. Kiểm tra giá trị giống nhau\n",
        "print(df.duplicated().sum())\n",
        "\n",
        "## loại bỏ các dòng giống nhau\n",
        "df = df.drop_duplicates()\n",
        "print(df)\n"
      ],
      "metadata": {
        "colab": {
          "base_uri": "https://localhost:8080/"
        },
        "id": "ePvfAy2JSYuT",
        "outputId": "b2d2c749-74c6-44c3-d5bf-b6f5141b9e8c"
      },
      "execution_count": null,
      "outputs": [
        {
          "output_type": "stream",
          "name": "stdout",
          "text": [
            "2\n",
            "   First Name Last Name  Age Gender Department     Salary Date of Joining\n",
            "ID                                                                       \n",
            "1        John       Doe   25      M      Sales  50.000000        1/1/2020\n",
            "2        Jane     Smith   30      F  Marketing  60.000000        6/1/2018\n",
            "3         Bod   Johnson   45      M         HR  70.000000        9/1/2016\n",
            "4       Alice  Williams   33      F         IT  80.000000        2/1/2017\n",
            "5       James     Brown   27      M      Sales  55.000000        3/1/2019\n",
            "6       Sarah       Lee   32      F  Marketing  65.000000       12/1/2018\n",
            "7     Michael     Davis   39      M         HR  62.272727        8/1/2015\n",
            "8       Susan    Miller   42      F         IT  90.000000       11/1/2014\n",
            "9       David    Wilson   28      M      Sales  60.000000        5/1/2020\n",
            "10      Emily     Brown   35      F  Marketing  55.000000        4/1/2017\n"
          ]
        }
      ]
    },
    {
      "cell_type": "code",
      "source": [
        "# Mã hóa dữ liệu categorical\n",
        "df = pd.get_dummies(df, columns = ['Gender', 'Department'])"
      ],
      "metadata": {
        "id": "G4nyGSkFSldc"
      },
      "execution_count": null,
      "outputs": []
    },
    {
      "cell_type": "code",
      "source": [
        "# Xử lý dữ liệu datetime\n",
        "## chuyển cột date thành một đối tượng datetime\n",
        "\n",
        "df['Date of Joining'] = pd.to_datetime(df['Date of Joining'])\n",
        "##extract month and day of week from date to column\n",
        "df['month'] = df['Date of Joining'].dt.month\n",
        "df['day_of_week'] = df['Date of Joining'].dt.day_name()\n",
        "\n",
        "## drop the orginal 'Date' column\n",
        "df = df.drop('Date of Joining', axis = 1)\n",
        "print(df)"
      ],
      "metadata": {
        "colab": {
          "base_uri": "https://localhost:8080/"
        },
        "id": "UpUR6kI3T4uw",
        "outputId": "979d748c-4f27-4759-9c5b-8fbef21931eb"
      },
      "execution_count": null,
      "outputs": [
        {
          "output_type": "stream",
          "name": "stdout",
          "text": [
            "   First Name Last Name  Age     Salary  Gender_F  Gender_M  Department_HR  \\\n",
            "ID                                                                           \n",
            "1        John       Doe   25  50.000000     False      True          False   \n",
            "2        Jane     Smith   30  60.000000      True     False          False   \n",
            "3         Bod   Johnson   45  70.000000     False      True           True   \n",
            "4       Alice  Williams   33  80.000000      True     False          False   \n",
            "5       James     Brown   27  55.000000     False      True          False   \n",
            "6       Sarah       Lee   32  65.000000      True     False          False   \n",
            "7     Michael     Davis   39  62.272727     False      True           True   \n",
            "8       Susan    Miller   42  90.000000      True     False          False   \n",
            "9       David    Wilson   28  60.000000     False      True          False   \n",
            "10      Emily     Brown   35  55.000000      True     False          False   \n",
            "\n",
            "    Department_IT  Department_Marketing  Department_Sales  month day_of_week  \n",
            "ID                                                                            \n",
            "1           False                 False              True      1   Wednesday  \n",
            "2           False                  True             False      6      Friday  \n",
            "3           False                 False             False      9    Thursday  \n",
            "4            True                 False             False      2   Wednesday  \n",
            "5           False                 False              True      3      Friday  \n",
            "6           False                  True             False     12    Saturday  \n",
            "7           False                 False             False      8    Saturday  \n",
            "8            True                 False             False     11    Saturday  \n",
            "9           False                 False              True      5      Friday  \n",
            "10          False                  True             False      4    Saturday  \n"
          ]
        }
      ]
    },
    {
      "cell_type": "code",
      "source": [
        "# xử lý các giá trị ngoại lai\n",
        "# chuẩn hóa và scale dữ liệu\n",
        "df1 = df.drop(['First Name', 'Last Name', 'day_of_week'], axis = 1)\n",
        "array = df1.values\n",
        "print(array)\n",
        "\n",
        "## sử dụng RobusstScaler() để loại bỏ những giá trị ngoại lai\n",
        "scaler = preprocessing.RobustScaler()\n",
        "robust_df = scaler.fit_transform(array)\n",
        "robust_df - pd.DataFrame(robust_df)\n",
        "\n",
        "\n",
        "## Chuẩn hóa dữ liệu bằng phương pháp z-score (Standard)\n",
        "scaler = preprocessing.StandardScaler()\n",
        "standard = scaler.fit_transform(array)\n",
        "standard_df = pd.DataFrame(standard, index = df.index)\n",
        "print('Chuan hoa du lieu: \\n', standard_df)\n",
        "\n",
        "## Scale dữ liệu bằng phương pháp minmax\n",
        "scaler = preprocessing.MinMaxScaler()\n",
        "minmax = scaler.fit_transform(array)\n",
        "minmax_df = pd.DataFrame(minmax, index = df.index)\n",
        "print('Scaling du lieu: \\n',minmax_df)"
      ],
      "metadata": {
        "colab": {
          "base_uri": "https://localhost:8080/"
        },
        "id": "aAbz38j1T5F_",
        "outputId": "f309ec47-0982-438f-d637-87b13e308fdc"
      },
      "execution_count": null,
      "outputs": [
        {
          "output_type": "stream",
          "name": "stdout",
          "text": [
            "[[25 50.0 False True False False False True 1]\n",
            " [30 60.0 True False False False True False 6]\n",
            " [45 70.0 False True True False False False 9]\n",
            " [33 80.0 True False False True False False 2]\n",
            " [27 55.0 False True False False False True 3]\n",
            " [32 65.0 True False False False True False 12]\n",
            " [39 62.27272727272727 False True True False False False 8]\n",
            " [42 90.0 True False False True False False 11]\n",
            " [28 60.0 False True False False False True 5]\n",
            " [35 55.0 True False False False True False 4]]\n",
            "Chuan hoa du lieu: \n",
            "            0         1    2    3    4    5         6         7         8\n",
            "ID                                                                      \n",
            "1  -1.365940 -1.264391 -1.0  1.0 -0.5 -0.5 -0.654654  1.527525 -1.420508\n",
            "2  -0.571789 -0.405854  1.0 -1.0 -0.5 -0.5  1.527525 -0.654654 -0.027853\n",
            "3   1.810665  0.452683 -1.0  1.0  2.0 -0.5 -0.654654 -0.654654  0.807740\n",
            "4  -0.095298  1.311220  1.0 -1.0 -0.5  2.0 -0.654654 -0.654654 -1.141977\n",
            "5  -1.048280 -0.835122 -1.0  1.0 -0.5 -0.5 -0.654654  1.527525 -0.863446\n",
            "6  -0.254128  0.023415  1.0 -1.0 -0.5 -0.5  1.527525 -0.654654  1.643333\n",
            "7   0.857683 -0.210732 -1.0  1.0  2.0 -0.5 -0.654654 -0.654654  0.529209\n",
            "8   1.334174  2.169757  1.0 -1.0 -0.5  2.0 -0.654654 -0.654654  1.364802\n",
            "9  -0.889449 -0.405854 -1.0  1.0 -0.5 -0.5 -0.654654  1.527525 -0.306384\n",
            "10  0.222362 -0.835122  1.0 -1.0 -0.5 -0.5  1.527525 -0.654654 -0.584915\n",
            "Scaling du lieu: \n",
            "        0         1    2    3    4    5    6    7         8\n",
            "ID                                                        \n",
            "1   0.00  0.000000  0.0  1.0  0.0  0.0  0.0  1.0  0.000000\n",
            "2   0.25  0.250000  1.0  0.0  0.0  0.0  1.0  0.0  0.454545\n",
            "3   1.00  0.500000  0.0  1.0  1.0  0.0  0.0  0.0  0.727273\n",
            "4   0.40  0.750000  1.0  0.0  0.0  1.0  0.0  0.0  0.090909\n",
            "5   0.10  0.125000  0.0  1.0  0.0  0.0  0.0  1.0  0.181818\n",
            "6   0.35  0.375000  1.0  0.0  0.0  0.0  1.0  0.0  1.000000\n",
            "7   0.70  0.306818  0.0  1.0  1.0  0.0  0.0  0.0  0.636364\n",
            "8   0.85  1.000000  1.0  0.0  0.0  1.0  0.0  0.0  0.909091\n",
            "9   0.15  0.250000  0.0  1.0  0.0  0.0  0.0  1.0  0.363636\n",
            "10  0.50  0.125000  1.0  0.0  0.0  0.0  1.0  0.0  0.272727\n"
          ]
        }
      ]
    },
    {
      "cell_type": "code",
      "source": [
        "# Rời rạc hóa dữ liệu\n",
        "# 2.a sử dụng pd.cut()\n",
        "# 10 equi-width ranges với cột đầu tiên của standard_df\n",
        "df2 = standard_df.copy()\n",
        "df2['equi-width_column0'] = pd.cut(x=df2[0], bins=10)\n",
        "print('Roi rac hoa cot 0 bang 10 equi-width ranges: \\n', df2)"
      ],
      "metadata": {
        "colab": {
          "base_uri": "https://localhost:8080/"
        },
        "id": "O1qfLwBMT5Mw",
        "outputId": "caa6980a-bad6-4904-c6bd-eb83a477e7c4"
      },
      "execution_count": null,
      "outputs": [
        {
          "output_type": "stream",
          "name": "stdout",
          "text": [
            "Roi rac hoa cot 0 bang 10 equi-width ranges: \n",
            "            0         1    2    3    4    5         6         7         8  \\\n",
            "ID                                                                         \n",
            "1  -1.365940 -1.264391 -1.0  1.0 -0.5 -0.5 -0.654654  1.527525 -1.420508   \n",
            "2  -0.571789 -0.405854  1.0 -1.0 -0.5 -0.5  1.527525 -0.654654 -0.027853   \n",
            "3   1.810665  0.452683 -1.0  1.0  2.0 -0.5 -0.654654 -0.654654  0.807740   \n",
            "4  -0.095298  1.311220  1.0 -1.0 -0.5  2.0 -0.654654 -0.654654 -1.141977   \n",
            "5  -1.048280 -0.835122 -1.0  1.0 -0.5 -0.5 -0.654654  1.527525 -0.863446   \n",
            "6  -0.254128  0.023415  1.0 -1.0 -0.5 -0.5  1.527525 -0.654654  1.643333   \n",
            "7   0.857683 -0.210732 -1.0  1.0  2.0 -0.5 -0.654654 -0.654654  0.529209   \n",
            "8   1.334174  2.169757  1.0 -1.0 -0.5  2.0 -0.654654 -0.654654  1.364802   \n",
            "9  -0.889449 -0.405854 -1.0  1.0 -0.5 -0.5 -0.654654  1.527525 -0.306384   \n",
            "10  0.222362 -0.835122  1.0 -1.0 -0.5 -0.5  1.527525 -0.654654 -0.584915   \n",
            "\n",
            "   equi-width_column0  \n",
            "ID                     \n",
            "1    (-1.369, -1.048]  \n",
            "2    (-0.731, -0.413]  \n",
            "3      (1.493, 1.811]  \n",
            "4    (-0.0953, 0.222]  \n",
            "5    (-1.048, -0.731]  \n",
            "6   (-0.413, -0.0953]  \n",
            "7      (0.858, 1.175]  \n",
            "8      (1.175, 1.493]  \n",
            "9    (-1.048, -0.731]  \n",
            "10   (-0.0953, 0.222]  \n"
          ]
        }
      ]
    },
    {
      "cell_type": "code",
      "source": [
        "# 2.b sử dụng pd.qcut()\n",
        "# 10 equi-width ranges với cột đầu tiên của standard_df\n",
        "df3 = standard_df.copy()\n",
        "df3['equi-depth_column0'] = pd.qcut(x=df3[0], q = 10)\n",
        "print('Roi rac hoa cot 0 bang 10 equi-depth ranges: \\n', df3)"
      ],
      "metadata": {
        "colab": {
          "base_uri": "https://localhost:8080/"
        },
        "id": "mZPxMLB7cJ_2",
        "outputId": "24078645-d457-4e4a-b735-4b6ec329c287"
      },
      "execution_count": null,
      "outputs": [
        {
          "output_type": "stream",
          "name": "stdout",
          "text": [
            "Roi rac hoa cot 0 bang 10 equi-depth ranges: \n",
            "            0         1    2    3    4    5         6         7         8  \\\n",
            "ID                                                                         \n",
            "1  -1.365940 -1.264391 -1.0  1.0 -0.5 -0.5 -0.654654  1.527525 -1.420508   \n",
            "2  -0.571789 -0.405854  1.0 -1.0 -0.5 -0.5  1.527525 -0.654654 -0.027853   \n",
            "3   1.810665  0.452683 -1.0  1.0  2.0 -0.5 -0.654654 -0.654654  0.807740   \n",
            "4  -0.095298  1.311220  1.0 -1.0 -0.5  2.0 -0.654654 -0.654654 -1.141977   \n",
            "5  -1.048280 -0.835122 -1.0  1.0 -0.5 -0.5 -0.654654  1.527525 -0.863446   \n",
            "6  -0.254128  0.023415  1.0 -1.0 -0.5 -0.5  1.527525 -0.654654  1.643333   \n",
            "7   0.857683 -0.210732 -1.0  1.0  2.0 -0.5 -0.654654 -0.654654  0.529209   \n",
            "8   1.334174  2.169757  1.0 -1.0 -0.5  2.0 -0.654654 -0.654654  1.364802   \n",
            "9  -0.889449 -0.405854 -1.0  1.0 -0.5 -0.5 -0.654654  1.527525 -0.306384   \n",
            "10  0.222362 -0.835122  1.0 -1.0 -0.5 -0.5  1.527525 -0.654654 -0.584915   \n",
            "\n",
            "   equi-depth_column0  \n",
            "ID                     \n",
            "1     (-1.367, -1.08]  \n",
            "2    (-0.667, -0.381]  \n",
            "3      (1.382, 1.811]  \n",
            "4    (-0.175, 0.0318]  \n",
            "5     (-1.08, -0.921]  \n",
            "6    (-0.381, -0.175]  \n",
            "7      (0.413, 0.953]  \n",
            "8      (0.953, 1.382]  \n",
            "9    (-0.921, -0.667]  \n",
            "10    (0.0318, 0.413]  \n"
          ]
        }
      ]
    },
    {
      "cell_type": "markdown",
      "source": [
        "# Yêu cầu 2: Làm tiếp những chổ chưa hoàn chỉnh ở mục 2\n"
      ],
      "metadata": {
        "id": "DVOa7je5dKuf"
      }
    },
    {
      "cell_type": "code",
      "source": [
        "!pip install -U scikit-learn\n"
      ],
      "metadata": {
        "colab": {
          "base_uri": "https://localhost:8080/"
        },
        "id": "yxkWU99ydAPK",
        "outputId": "807f1e24-56c3-4cbe-a064-940891bd4d64"
      },
      "execution_count": null,
      "outputs": [
        {
          "output_type": "stream",
          "name": "stdout",
          "text": [
            "Requirement already satisfied: scikit-learn in /usr/local/lib/python3.10/dist-packages (1.4.1.post1)\n",
            "Requirement already satisfied: numpy<2.0,>=1.19.5 in /usr/local/lib/python3.10/dist-packages (from scikit-learn) (1.25.2)\n",
            "Requirement already satisfied: scipy>=1.6.0 in /usr/local/lib/python3.10/dist-packages (from scikit-learn) (1.11.4)\n",
            "Requirement already satisfied: joblib>=1.2.0 in /usr/local/lib/python3.10/dist-packages (from scikit-learn) (1.3.2)\n",
            "Requirement already satisfied: threadpoolctl>=2.0.0 in /usr/local/lib/python3.10/dist-packages (from scikit-learn) (3.4.0)\n"
          ]
        }
      ]
    },
    {
      "cell_type": "code",
      "source": [
        "import pandas as pd\n",
        "import numpy as np\n",
        "from sklearn.impute import SimpleImputer\n",
        "from sklearn.preprocessing import StandardScaler\n",
        "from sklearn.preprocessing import KBinsDiscretizer\n",
        "\n",
        "df = pd.read_csv('/content/drive/MyDrive/HCMUS-DM/Lab01/arrhythmia/arrhythmia.data', delimiter = ',', header = None)\n",
        "\n",
        "print(df)\n"
      ],
      "metadata": {
        "colab": {
          "base_uri": "https://localhost:8080/"
        },
        "id": "qy5rolLjdHy4",
        "outputId": "1293a5cf-b224-4e8c-9344-7a7037c6edc8"
      },
      "execution_count": null,
      "outputs": [
        {
          "output_type": "stream",
          "name": "stdout",
          "text": [
            "     0    1    2    3    4    5    6    7    8    9    ...  270   271   272  \\\n",
            "0     75    0  190   80   91  193  371  174  121  -16  ...  0.0   9.0  -0.9   \n",
            "1     56    1  165   64   81  174  401  149   39   25  ...  0.0   8.5   0.0   \n",
            "2     54    0  172   95  138  163  386  185  102   96  ...  0.0   9.5  -2.4   \n",
            "3     55    0  175   94  100  202  380  179  143   28  ...  0.0  12.2  -2.2   \n",
            "4     75    0  190   80   88  181  360  177  103  -16  ...  0.0  13.1  -3.6   \n",
            "..   ...  ...  ...  ...  ...  ...  ...  ...  ...  ...  ...  ...   ...   ...   \n",
            "447   53    1  160   70   80  199  382  154  117  -37  ...  0.0   4.3  -5.0   \n",
            "448   37    0  190   85  100  137  361  201   73   86  ...  0.0  15.6  -1.6   \n",
            "449   36    0  166   68  108  176  365  194  116  -85  ...  0.0  16.3 -28.6   \n",
            "450   32    1  155   55   93  106  386  218   63   54  ... -0.4  12.0  -0.7   \n",
            "451   78    1  160   70   79  127  364  138   78   28  ...  0.0  10.4  -1.8   \n",
            "\n",
            "     273  274  275  276   277   278  279  \n",
            "0    0.0  0.0  0.9  2.9  23.3  49.4    8  \n",
            "1    0.0  0.0  0.2  2.1  20.4  38.8    6  \n",
            "2    0.0  0.0  0.3  3.4  12.3  49.0   10  \n",
            "3    0.0  0.0  0.4  2.6  34.6  61.6    1  \n",
            "4    0.0  0.0 -0.1  3.9  25.4  62.8    7  \n",
            "..   ...  ...  ...  ...   ...   ...  ...  \n",
            "447  0.0  0.0  0.7  0.6  -4.4  -0.5    1  \n",
            "448  0.0  0.0  0.4  2.4  38.0  62.4   10  \n",
            "449  0.0  0.0  1.5  1.0 -44.2 -33.2    2  \n",
            "450  0.0  0.0  0.5  2.4  25.0  46.6    1  \n",
            "451  0.0  0.0  0.5  1.6  21.3  32.8    1  \n",
            "\n",
            "[452 rows x 280 columns]\n"
          ]
        }
      ]
    },
    {
      "cell_type": "code",
      "source": [
        "# Quan sát dữ liệu\n",
        "## Kiểu dữ liệu\n",
        "print(df.dtypes)\n",
        "\n",
        "##\n",
        "## Chọn các cột có kiểu dữ liệu là 'object' (kiểu dữ liệu chuỗi)\n",
        "string_columns = df.select_dtypes(include=['object']).columns\n",
        "\n",
        "if len(string_columns) > 0:\n",
        "    print(\"Các cột chứa kiểu dữ liệu string:\")\n",
        "    print(string_columns)\n",
        "else:\n",
        "    print(\"Không có cột nào chứa kiểu dữ liệu string.\")"
      ],
      "metadata": {
        "colab": {
          "base_uri": "https://localhost:8080/"
        },
        "id": "lQYDAipChCWf",
        "outputId": "fb1c0c80-9480-4e7c-9086-736316ccd252"
      },
      "execution_count": null,
      "outputs": [
        {
          "output_type": "stream",
          "name": "stdout",
          "text": [
            "0        int64\n",
            "1        int64\n",
            "2        int64\n",
            "3        int64\n",
            "4        int64\n",
            "        ...   \n",
            "275    float64\n",
            "276    float64\n",
            "277    float64\n",
            "278    float64\n",
            "279      int64\n",
            "Length: 280, dtype: object\n",
            "Các cột chứa kiểu dữ liệu string:\n",
            "Index([10, 11, 12, 13, 14], dtype='int64')\n"
          ]
        }
      ]
    },
    {
      "cell_type": "code",
      "source": [
        "# Làm sạch dữ liệu\n",
        "\n",
        "\n",
        "##1. Loại bỏ các giá trị outlier và chuyển nó thành NaN\n",
        "df = df.apply(pd.to_numeric, errors='coerce')\n",
        "\n",
        "##2. Kiểm tra các giá trị missing\n",
        "print(df.isnull().sum())\n",
        "\n",
        "##làm đầy các giá trị missing bằng giá trị trung bình\n",
        "df.fillna(df.mean(), inplace = True)\n",
        "## 3. Kiểm tra giá trị giống nhau\n",
        "print(df.duplicated().sum())\n",
        "\n",
        "## loại bỏ các dòng giống nhau\n",
        "df = df.drop_duplicates()\n",
        "\n",
        "print(df)\n"
      ],
      "metadata": {
        "colab": {
          "base_uri": "https://localhost:8080/"
        },
        "id": "2KLsv9mHfDfv",
        "outputId": "69f35d33-c6cb-4a19-ea78-84802d8e9ba5"
      },
      "execution_count": null,
      "outputs": [
        {
          "output_type": "stream",
          "name": "stdout",
          "text": [
            "0      0\n",
            "1      0\n",
            "2      0\n",
            "3      0\n",
            "4      0\n",
            "      ..\n",
            "275    0\n",
            "276    0\n",
            "277    0\n",
            "278    0\n",
            "279    0\n",
            "Length: 280, dtype: int64\n",
            "0\n",
            "     0    1    2    3    4    5    6    7    8    9    ...  270   271   272  \\\n",
            "0     75    0  190   80   91  193  371  174  121  -16  ...  0.0   9.0  -0.9   \n",
            "1     56    1  165   64   81  174  401  149   39   25  ...  0.0   8.5   0.0   \n",
            "2     54    0  172   95  138  163  386  185  102   96  ...  0.0   9.5  -2.4   \n",
            "3     55    0  175   94  100  202  380  179  143   28  ...  0.0  12.2  -2.2   \n",
            "4     75    0  190   80   88  181  360  177  103  -16  ...  0.0  13.1  -3.6   \n",
            "..   ...  ...  ...  ...  ...  ...  ...  ...  ...  ...  ...  ...   ...   ...   \n",
            "447   53    1  160   70   80  199  382  154  117  -37  ...  0.0   4.3  -5.0   \n",
            "448   37    0  190   85  100  137  361  201   73   86  ...  0.0  15.6  -1.6   \n",
            "449   36    0  166   68  108  176  365  194  116  -85  ...  0.0  16.3 -28.6   \n",
            "450   32    1  155   55   93  106  386  218   63   54  ... -0.4  12.0  -0.7   \n",
            "451   78    1  160   70   79  127  364  138   78   28  ...  0.0  10.4  -1.8   \n",
            "\n",
            "     273  274  275  276   277   278  279  \n",
            "0    0.0  0.0  0.9  2.9  23.3  49.4    8  \n",
            "1    0.0  0.0  0.2  2.1  20.4  38.8    6  \n",
            "2    0.0  0.0  0.3  3.4  12.3  49.0   10  \n",
            "3    0.0  0.0  0.4  2.6  34.6  61.6    1  \n",
            "4    0.0  0.0 -0.1  3.9  25.4  62.8    7  \n",
            "..   ...  ...  ...  ...   ...   ...  ...  \n",
            "447  0.0  0.0  0.7  0.6  -4.4  -0.5    1  \n",
            "448  0.0  0.0  0.4  2.4  38.0  62.4   10  \n",
            "449  0.0  0.0  1.5  1.0 -44.2 -33.2    2  \n",
            "450  0.0  0.0  0.5  2.4  25.0  46.6    1  \n",
            "451  0.0  0.0  0.5  1.6  21.3  32.8    1  \n",
            "\n",
            "[452 rows x 280 columns]\n"
          ]
        }
      ]
    },
    {
      "cell_type": "code",
      "source": [
        "# xử lý các giá trị ngoại lai\n",
        "# chuẩn hóa và scale dữ liệu\n",
        "df1 = df.copy()\n",
        "array = df1.values\n",
        "print(array)\n",
        "\n",
        "## sử dụng RobusstScaler() để loại bỏ những giá trị ngoại lai\n",
        "scaler = preprocessing.RobustScaler()\n",
        "robust_df = scaler.fit_transform(array)\n",
        "robust_df - pd.DataFrame(robust_df)\n",
        "\n",
        "\n",
        "## Chuẩn hóa dữ liệu bằng phương pháp z-score (Standard)\n",
        "scaler = preprocessing.StandardScaler()\n",
        "standard = scaler.fit_transform(array)\n",
        "standard_df = pd.DataFrame(standard, index = df.index)\n",
        "print('Chuan hoa du lieu: \\n', standard_df)\n",
        "\n",
        "## Scale dữ liệu bằng phương pháp minmax\n",
        "scaler = preprocessing.MinMaxScaler()\n",
        "minmax = scaler.fit_transform(array)\n",
        "minmax_df = pd.DataFrame(minmax, index = df.index)\n",
        "print('Scaling du lieu: \\n',minmax_df)"
      ],
      "metadata": {
        "colab": {
          "base_uri": "https://localhost:8080/"
        },
        "id": "ocSw6DhHftat",
        "outputId": "01a77040-5729-47a7-f588-da0192c62531"
      },
      "execution_count": null,
      "outputs": [
        {
          "output_type": "stream",
          "name": "stdout",
          "text": [
            "[[ 75.    0.  190.  ...  23.3  49.4   8. ]\n",
            " [ 56.    1.  165.  ...  20.4  38.8   6. ]\n",
            " [ 54.    0.  172.  ...  12.3  49.   10. ]\n",
            " ...\n",
            " [ 36.    0.  166.  ... -44.2 -33.2   2. ]\n",
            " [ 32.    1.  155.  ...  25.   46.6   1. ]\n",
            " [ 78.    1.  160.  ...  21.3  32.8   1. ]]\n",
            "Chuan hoa du lieu: \n",
            "           0         1         2         3         4         5         6    \\\n",
            "0    1.734439 -1.107520  0.641327  0.713814  0.135505  0.844945  0.113709   \n",
            "1    0.579312  0.902918 -0.031998 -0.251644 -0.516072  0.420769  1.013301   \n",
            "2    0.457720 -1.107520  0.156533  1.618932  3.197915  0.175193  0.563505   \n",
            "3    0.518516 -1.107520  0.237332  1.558590  0.721924  1.045871  0.383587   \n",
            "4    1.734439 -1.107520  0.641327  0.713814 -0.059968  0.577044 -0.216141   \n",
            "..        ...       ...       ...       ...       ...       ...       ...   \n",
            "447  0.396924  0.902918 -0.166663  0.110403 -0.581229  0.978896  0.443560   \n",
            "448 -0.575815 -1.107520  0.641327  1.015520  0.721924 -0.405260 -0.186154   \n",
            "449 -0.636611 -1.107520 -0.005065 -0.010279  1.243185  0.465419 -0.066209   \n",
            "450 -0.879796  0.902918 -0.301328 -0.794714  0.265820 -1.097337  0.563505   \n",
            "451  1.916828  0.902918 -0.166663  0.110403 -0.646387 -0.628511 -0.096195   \n",
            "\n",
            "          7         8         9    ...       270       271        272  \\\n",
            "0    0.113809  1.201469 -1.094661  ...  0.508843 -0.013839   0.278621   \n",
            "1   -0.588564 -1.977064 -0.191203  ...  0.508843 -0.157972   0.728573   \n",
            "2    0.422853  0.464980  1.373324  ...  0.508843  0.130294  -0.471299   \n",
            "3    0.254284  2.054247 -0.125096  ...  0.508843  0.908612  -0.371310   \n",
            "4    0.198094  0.503742 -1.094661  ...  0.508843  1.168051  -1.071235   \n",
            "..        ...       ...       ...  ...       ...       ...        ...   \n",
            "447 -0.448089  1.046419 -1.557409  ...  0.508843 -1.368689  -1.771161   \n",
            "448  0.872372 -0.659136  1.152968  ...  0.508843  1.888716  -0.071342   \n",
            "449  0.675708  1.007656 -2.615116  ...  0.508843  2.090502 -13.569901   \n",
            "450  1.349985 -1.046762  0.447829  ... -0.220727  0.850959   0.378610   \n",
            "451 -0.897608 -0.465323 -0.125096  ...  0.508843  0.389733  -0.171331   \n",
            "\n",
            "          273  274       275       276       277       278       279  \n",
            "0   -0.079546  0.0  1.109553  1.177737  0.294603  1.078670  0.935771  \n",
            "1   -0.079546  0.0 -0.906889  0.616126  0.079613  0.504874  0.481455  \n",
            "2   -0.079546  0.0 -0.618826  1.528744 -0.520878  1.057018  1.390087  \n",
            "3   -0.079546  0.0 -0.330763  0.967133  1.132324  1.739077 -0.654336  \n",
            "4   -0.079546  0.0 -1.771079  1.879751  0.450286  1.804035  0.708613  \n",
            "..        ...  ...       ...       ...       ...       ...       ...  \n",
            "447 -0.079546  0.0  0.533427 -0.436895 -1.758926 -1.622502 -0.654336  \n",
            "448 -0.079546  0.0 -0.330763  0.826730  1.384382  1.782383  1.390087  \n",
            "449 -0.079546  0.0  2.837932 -0.156089 -4.709483 -3.392610 -0.427178  \n",
            "450 -0.079546  0.0 -0.042700  0.826730  0.420632  0.927101 -0.654336  \n",
            "451 -0.079546  0.0 -0.042700  0.265119  0.146334  0.180084 -0.654336  \n",
            "\n",
            "[452 rows x 280 columns]\n",
            "Scaling du lieu: \n",
            "           0    1         2         3         4         5         6    \\\n",
            "0    0.903614  0.0  0.125926  0.435294  0.270677  0.368321  0.501805   \n",
            "1    0.674699  1.0  0.088889  0.341176  0.195489  0.332061  0.610108   \n",
            "2    0.650602  0.0  0.099259  0.523529  0.624060  0.311069  0.555957   \n",
            "3    0.662651  0.0  0.103704  0.517647  0.338346  0.385496  0.534296   \n",
            "4    0.903614  0.0  0.125926  0.435294  0.248120  0.345420  0.462094   \n",
            "..        ...  ...       ...       ...       ...       ...       ...   \n",
            "447  0.638554  1.0  0.081481  0.376471  0.187970  0.379771  0.541516   \n",
            "448  0.445783  0.0  0.125926  0.464706  0.338346  0.261450  0.465704   \n",
            "449  0.433735  0.0  0.090370  0.364706  0.398496  0.335878  0.480144   \n",
            "450  0.385542  1.0  0.074074  0.288235  0.285714  0.202290  0.555957   \n",
            "451  0.939759  1.0  0.081481  0.376471  0.180451  0.242366  0.476534   \n",
            "\n",
            "          7         8         9    ...       270       271       272  273  \\\n",
            "0    0.241758  0.590244  0.457478  ...  1.000000  0.381356  0.968531  0.0   \n",
            "1    0.150183  0.190244  0.577713  ...  1.000000  0.360169  1.000000  0.0   \n",
            "2    0.282051  0.497561  0.785924  ...  1.000000  0.402542  0.916084  0.0   \n",
            "3    0.260073  0.697561  0.586510  ...  1.000000  0.516949  0.923077  0.0   \n",
            "4    0.252747  0.502439  0.457478  ...  1.000000  0.555085  0.874126  0.0   \n",
            "..        ...       ...       ...  ...       ...       ...       ...  ...   \n",
            "447  0.168498  0.570732  0.395894  ...  1.000000  0.182203  0.825175  0.0   \n",
            "448  0.340659  0.356098  0.756598  ...  1.000000  0.661017  0.944056  0.0   \n",
            "449  0.315018  0.565854  0.255132  ...  1.000000  0.690678  0.000000  0.0   \n",
            "450  0.402930  0.307317  0.662757  ...  0.902439  0.508475  0.975524  0.0   \n",
            "451  0.109890  0.380488  0.586510  ...  1.000000  0.440678  0.937063  0.0   \n",
            "\n",
            "     274      275       276       277       278       279  \n",
            "0    0.0  0.53125  0.741667  0.507519  0.569579  0.466667  \n",
            "1    0.0  0.31250  0.675000  0.485714  0.500971  0.333333  \n",
            "2    0.0  0.34375  0.783333  0.424812  0.566990  0.600000  \n",
            "3    0.0  0.37500  0.716667  0.592481  0.648544  0.000000  \n",
            "4    0.0  0.21875  0.825000  0.523308  0.656311  0.400000  \n",
            "..   ...      ...       ...       ...       ...       ...  \n",
            "447  0.0  0.46875  0.550000  0.299248  0.246602  0.000000  \n",
            "448  0.0  0.37500  0.700000  0.618045  0.653722  0.600000  \n",
            "449  0.0  0.71875  0.583333  0.000000  0.034951  0.066667  \n",
            "450  0.0  0.40625  0.700000  0.520301  0.551456  0.000000  \n",
            "451  0.0  0.40625  0.633333  0.492481  0.462136  0.000000  \n",
            "\n",
            "[452 rows x 280 columns]\n"
          ]
        }
      ]
    },
    {
      "cell_type": "code",
      "source": [
        "# Rời rạc hóa mỗi thuộc tính số hóa thành\n",
        "## 10 equi-width ranges\n",
        "df2 = standard_df.copy()\n",
        "df2['equi-width_column0'] = pd.cut(x=df2[0], bins=10)\n",
        "print('Roi rac hoa cot 0 bang 10 equi-width ranges: \\n', df2)\n",
        "\n",
        "\n",
        "## 10 equi-depth ranges\n",
        "df3 = standard_df.copy()\n",
        "df3['equi-depth_column0'] = pd.qcut(x=df3[0], q = 10)\n",
        "print('Roi rac hoa cot 0 bang 10 equi-depth ranges: \\n', df3)"
      ],
      "metadata": {
        "colab": {
          "base_uri": "https://localhost:8080/"
        },
        "id": "yvCbkZm6fYUa",
        "outputId": "a555e892-64df-4221-d580-df38abc45820"
      },
      "execution_count": null,
      "outputs": [
        {
          "output_type": "stream",
          "name": "stdout",
          "text": [
            "Roi rac hoa cot 0 bang 10 equi-width ranges: \n",
            "             0         1         2         3         4         5         6  \\\n",
            "0    1.734439 -1.107520  0.641327  0.713814  0.135505  0.844945  0.113709   \n",
            "1    0.579312  0.902918 -0.031998 -0.251644 -0.516072  0.420769  1.013301   \n",
            "2    0.457720 -1.107520  0.156533  1.618932  3.197915  0.175193  0.563505   \n",
            "3    0.518516 -1.107520  0.237332  1.558590  0.721924  1.045871  0.383587   \n",
            "4    1.734439 -1.107520  0.641327  0.713814 -0.059968  0.577044 -0.216141   \n",
            "..        ...       ...       ...       ...       ...       ...       ...   \n",
            "447  0.396924  0.902918 -0.166663  0.110403 -0.581229  0.978896  0.443560   \n",
            "448 -0.575815 -1.107520  0.641327  1.015520  0.721924 -0.405260 -0.186154   \n",
            "449 -0.636611 -1.107520 -0.005065 -0.010279  1.243185  0.465419 -0.066209   \n",
            "450 -0.879796  0.902918 -0.301328 -0.794714  0.265820 -1.097337  0.563505   \n",
            "451  1.916828  0.902918 -0.166663  0.110403 -0.646387 -0.628511 -0.096195   \n",
            "\n",
            "            7         8         9  ...       271        272       273  274  \\\n",
            "0    0.113809  1.201469 -1.094661  ... -0.013839   0.278621 -0.079546  0.0   \n",
            "1   -0.588564 -1.977064 -0.191203  ... -0.157972   0.728573 -0.079546  0.0   \n",
            "2    0.422853  0.464980  1.373324  ...  0.130294  -0.471299 -0.079546  0.0   \n",
            "3    0.254284  2.054247 -0.125096  ...  0.908612  -0.371310 -0.079546  0.0   \n",
            "4    0.198094  0.503742 -1.094661  ...  1.168051  -1.071235 -0.079546  0.0   \n",
            "..        ...       ...       ...  ...       ...        ...       ...  ...   \n",
            "447 -0.448089  1.046419 -1.557409  ... -1.368689  -1.771161 -0.079546  0.0   \n",
            "448  0.872372 -0.659136  1.152968  ...  1.888716  -0.071342 -0.079546  0.0   \n",
            "449  0.675708  1.007656 -2.615116  ...  2.090502 -13.569901 -0.079546  0.0   \n",
            "450  1.349985 -1.046762  0.447829  ...  0.850959   0.378610 -0.079546  0.0   \n",
            "451 -0.897608 -0.465323 -0.125096  ...  0.389733  -0.171331 -0.079546  0.0   \n",
            "\n",
            "          275       276       277       278       279  equi-width_column0  \n",
            "0    1.109553  1.177737  0.294603  1.078670  0.935771      (1.716, 2.221]  \n",
            "1   -0.906889  0.616126  0.079613  0.504874  0.481455      (0.202, 0.707]  \n",
            "2   -0.618826  1.528744 -0.520878  1.057018  1.390087      (0.202, 0.707]  \n",
            "3   -0.330763  0.967133  1.132324  1.739077 -0.654336      (0.202, 0.707]  \n",
            "4   -1.771079  1.879751  0.450286  1.804035  0.708613      (1.716, 2.221]  \n",
            "..        ...       ...       ...       ...       ...                 ...  \n",
            "447  0.533427 -0.436895 -1.758926 -1.622502 -0.654336      (0.202, 0.707]  \n",
            "448 -0.330763  0.826730  1.384382  1.782383  1.390087    (-0.807, -0.302]  \n",
            "449  2.837932 -0.156089 -4.709483 -3.392610 -0.427178    (-0.807, -0.302]  \n",
            "450 -0.042700  0.826730  0.420632  0.927101 -0.654336    (-1.311, -0.807]  \n",
            "451 -0.042700  0.265119  0.146334  0.180084 -0.654336      (1.716, 2.221]  \n",
            "\n",
            "[452 rows x 281 columns]\n",
            "Roi rac hoa cot 0 bang 10 equi-depth ranges: \n",
            "             0         1         2         3         4         5         6  \\\n",
            "0    1.734439 -1.107520  0.641327  0.713814  0.135505  0.844945  0.113709   \n",
            "1    0.579312  0.902918 -0.031998 -0.251644 -0.516072  0.420769  1.013301   \n",
            "2    0.457720 -1.107520  0.156533  1.618932  3.197915  0.175193  0.563505   \n",
            "3    0.518516 -1.107520  0.237332  1.558590  0.721924  1.045871  0.383587   \n",
            "4    1.734439 -1.107520  0.641327  0.713814 -0.059968  0.577044 -0.216141   \n",
            "..        ...       ...       ...       ...       ...       ...       ...   \n",
            "447  0.396924  0.902918 -0.166663  0.110403 -0.581229  0.978896  0.443560   \n",
            "448 -0.575815 -1.107520  0.641327  1.015520  0.721924 -0.405260 -0.186154   \n",
            "449 -0.636611 -1.107520 -0.005065 -0.010279  1.243185  0.465419 -0.066209   \n",
            "450 -0.879796  0.902918 -0.301328 -0.794714  0.265820 -1.097337  0.563505   \n",
            "451  1.916828  0.902918 -0.166663  0.110403 -0.646387 -0.628511 -0.096195   \n",
            "\n",
            "            7         8         9  ...       271        272       273  274  \\\n",
            "0    0.113809  1.201469 -1.094661  ... -0.013839   0.278621 -0.079546  0.0   \n",
            "1   -0.588564 -1.977064 -0.191203  ... -0.157972   0.728573 -0.079546  0.0   \n",
            "2    0.422853  0.464980  1.373324  ...  0.130294  -0.471299 -0.079546  0.0   \n",
            "3    0.254284  2.054247 -0.125096  ...  0.908612  -0.371310 -0.079546  0.0   \n",
            "4    0.198094  0.503742 -1.094661  ...  1.168051  -1.071235 -0.079546  0.0   \n",
            "..        ...       ...       ...  ...       ...        ...       ...  ...   \n",
            "447 -0.448089  1.046419 -1.557409  ... -1.368689  -1.771161 -0.079546  0.0   \n",
            "448  0.872372 -0.659136  1.152968  ...  1.888716  -0.071342 -0.079546  0.0   \n",
            "449  0.675708  1.007656 -2.615116  ...  2.090502 -13.569901 -0.079546  0.0   \n",
            "450  1.349985 -1.046762  0.447829  ...  0.850959   0.378610 -0.079546  0.0   \n",
            "451 -0.897608 -0.465323 -0.125096  ...  0.389733  -0.171331 -0.079546  0.0   \n",
            "\n",
            "          275       276       277       278       279  equi-depth_column0  \n",
            "0    1.109553  1.177737  0.294603  1.078670  0.935771      (1.248, 2.221]  \n",
            "1   -0.906889  0.616126  0.079613  0.504874  0.481455      (0.275, 0.579]  \n",
            "2   -0.618826  1.528744 -0.520878  1.057018  1.390087      (0.275, 0.579]  \n",
            "3   -0.330763  0.967133  1.132324  1.739077 -0.654336      (0.275, 0.579]  \n",
            "4   -1.771079  1.879751  0.450286  1.804035  0.708613      (1.248, 2.221]  \n",
            "..        ...       ...       ...       ...       ...                 ...  \n",
            "447  0.533427 -0.436895 -1.758926 -1.622502 -0.654336      (0.275, 0.579]  \n",
            "448 -0.330763  0.826730  1.384382  1.782383  1.390087    (-0.758, -0.576]  \n",
            "449  2.837932 -0.156089 -4.709483 -3.392610 -0.427178    (-0.758, -0.576]  \n",
            "450 -0.042700  0.826730  0.420632  0.927101 -0.654336    (-1.245, -0.758]  \n",
            "451 -0.042700  0.265119  0.146334  0.180084 -0.654336      (1.248, 2.221]  \n",
            "\n",
            "[452 rows x 281 columns]\n"
          ]
        }
      ]
    },
    {
      "cell_type": "markdown",
      "source": [
        "# Yêu cầu 3: PCA\n",
        "Sử dụng mục 1 để làm sạch dữ liệu và tiền xử lý dữ liệu, và sử dụng PCA trong\n",
        "thư viện sklearn để làm mục 3.\n"
      ],
      "metadata": {
        "id": "hNrvT1pYjes7"
      }
    },
    {
      "cell_type": "code",
      "source": [
        "import pandas as pd\n",
        "import numpy as np\n",
        "from sklearn.impute import SimpleImputer\n",
        "from sklearn.preprocessing import StandardScaler\n",
        "from sklearn.preprocessing import KBinsDiscretizer\n",
        "from sklearn.decomposition import PCA\n",
        "\n",
        "# Đọc dữ liệu\n",
        "df = pd.read_csv('/content/drive/MyDrive/HCMUS-DM/Lab01/musk+version+1/clean1.data', delimiter = ',', header = None)\n",
        "print(df.head())\n",
        "\n",
        "\n"
      ],
      "metadata": {
        "colab": {
          "base_uri": "https://localhost:8080/"
        },
        "id": "C2GH5FVVh03g",
        "outputId": "937f5dd7-f37b-49c6-f0a7-d785f2cf8add"
      },
      "execution_count": null,
      "outputs": [
        {
          "output_type": "stream",
          "name": "stdout",
          "text": [
            "        0        1    2    3    4    5    6    7    8    9    ...  159  160  \\\n",
            "0  MUSK-188  188_1+1   42 -198 -109  -75 -117   11   23  -88  ...  -74 -129   \n",
            "1  MUSK-188  188_1+2   42 -191 -142  -65 -117   55   49 -170  ... -302   60   \n",
            "2  MUSK-188  188_1+3   42 -191 -142  -75 -117   11   49 -161  ...  -73 -127   \n",
            "3  MUSK-188  188_1+4   42 -198 -110  -65 -117   55   23  -95  ... -302   60   \n",
            "4  MUSK-190  190_1+1   42 -198 -102  -75 -117   10   24  -87  ...  -73 -127   \n",
            "\n",
            "   161  162  163  164  165  166  167  168  \n",
            "0 -120  -38   30   48  -37    6   30  1.0  \n",
            "1 -120  -39   31   48  -37    5   30  1.0  \n",
            "2 -120  -38   30   48  -37    5   31  1.0  \n",
            "3 -120  -39   30   48  -37    6   30  1.0  \n",
            "4   51  128  144   43  -30   14   26  1.0  \n",
            "\n",
            "[5 rows x 169 columns]\n"
          ]
        }
      ]
    },
    {
      "cell_type": "code",
      "source": [
        "# Làm sạch dữ liệu\n",
        "##1. Kiểm tra các giá trị missing\n",
        "print(df.isnull().sum())\n",
        "\n",
        "## 2. Kiểm tra giá trị giống nhau\n",
        "print(df.duplicated().sum())\n",
        "\n",
        "## loại bỏ các dòng giống nhau\n",
        "df = df.drop_duplicates()\n",
        "\n",
        "\n",
        "\n"
      ],
      "metadata": {
        "colab": {
          "base_uri": "https://localhost:8080/"
        },
        "id": "8BlozXPqoXNU",
        "outputId": "2bfad904-7f26-4464-cfd2-fac284a45139"
      },
      "execution_count": null,
      "outputs": [
        {
          "output_type": "stream",
          "name": "stdout",
          "text": [
            "0      0\n",
            "1      0\n",
            "2      0\n",
            "3      0\n",
            "4      0\n",
            "      ..\n",
            "164    0\n",
            "165    0\n",
            "166    0\n",
            "167    0\n",
            "168    0\n",
            "Length: 169, dtype: int64\n",
            "0\n"
          ]
        }
      ]
    },
    {
      "cell_type": "code",
      "source": [
        "df.to_csv('a.csv')"
      ],
      "metadata": {
        "id": "HbdlS9HEoaL7"
      },
      "execution_count": null,
      "outputs": []
    },
    {
      "cell_type": "code",
      "source": [
        "# xử lý các giá trị ngoại lai\n",
        "# chuẩn hóa và scale dữ liệu\n",
        "## Bỏ đi 2 cột đầu là molecule_name và conformation_name\n",
        "df1 = df.drop(df.columns[[0, 1]], axis = 1)\n",
        "array = df1.values\n",
        "print(array)\n",
        "\n",
        "## sử dụng RobusstScaler() để loại bỏ những giá trị ngoại lai\n",
        "scaler = preprocessing.RobustScaler()\n",
        "robust_df = scaler.fit_transform(array)\n",
        "robust_df - pd.DataFrame(robust_df)\n",
        "\n",
        "\n",
        "## Chuẩn hóa dữ liệu bằng phương pháp z-score (Standard)\n",
        "scaler = preprocessing.StandardScaler()\n",
        "standard = scaler.fit_transform(array)\n",
        "standard_df = pd.DataFrame(standard, index = df.index)\n",
        "print('Chuan hoa du lieu: \\n', standard_df)\n",
        "\n",
        "## Scale dữ liệu bằng phương pháp minmax\n",
        "scaler = preprocessing.MinMaxScaler()\n",
        "minmax = scaler.fit_transform(array)\n",
        "minmax_df = pd.DataFrame(minmax, index = df.index)\n",
        "print('Scaling du lieu: \\n',minmax_df)\n"
      ],
      "metadata": {
        "colab": {
          "base_uri": "https://localhost:8080/"
        },
        "id": "Yky5kHynoZB-",
        "outputId": "6802b66e-2659-4826-d98d-ca984f7d1cab"
      },
      "execution_count": null,
      "outputs": [
        {
          "output_type": "stream",
          "name": "stdout",
          "text": [
            "[[  42. -198. -109. ...    6.   30.    1.]\n",
            " [  42. -191. -142. ...    5.   30.    1.]\n",
            " [  42. -191. -142. ...    5.   31.    1.]\n",
            " ...\n",
            " [  43. -102.  -20. ...  -19.  -36.    0.]\n",
            " [  39.  -58.   27. ...    3.   74.    0.]\n",
            " [  52. -121.  -24. ...   12.   96.    0.]]\n",
            "Chuan hoa du lieu: \n",
            "           0         1         2         3         4         5         6    \\\n",
            "0    0.180913 -0.882527 -0.430628 -1.205030 -0.163966  0.225832  0.372274   \n",
            "1    0.180913 -0.803181 -0.908198 -1.072468 -0.163966  0.704464  0.616523   \n",
            "2    0.180913 -0.803181 -0.908198 -1.205030 -0.163966  0.225832  0.616523   \n",
            "3    0.180913 -0.882527 -0.445100 -1.072468 -0.163966  0.704464  0.372274   \n",
            "4    0.180913 -0.882527 -0.329325 -1.205030 -0.163966  0.214954  0.381668   \n",
            "..        ...       ...       ...       ...       ...       ...       ...   \n",
            "471  0.568318 -0.893863 -1.183162  0.173611  0.603259 -0.829332 -0.294713   \n",
            "472 -0.040461 -0.032386 -0.864782  0.186867 -0.163966 -0.851088  2.166562   \n",
            "473  0.236257  0.205653  0.857364 -1.549690 -0.129092  2.281772 -1.403226   \n",
            "474  0.014882  0.704403  1.537539  0.200124 -0.163966 -0.894600  0.954713   \n",
            "475  0.734349 -0.009716  0.799477 -1.589459 -0.129092  2.227382 -1.365649   \n",
            "\n",
            "          7         8         9    ...       157       158       159  \\\n",
            "0   -1.264914  0.655251  0.677949  ...  1.457495 -0.170444 -1.446426   \n",
            "1   -2.348040  0.478573  1.119989  ... -1.090779  1.382981 -1.446426   \n",
            "2   -2.229160  0.478573  0.664135  ...  1.468672 -0.154006 -1.446426   \n",
            "3   -1.357376  0.655251  1.119989  ... -1.090779  1.382981 -1.446426   \n",
            "4   -1.251705  0.655251  0.664135  ...  1.468672 -0.154006  1.163490   \n",
            "..        ...       ...       ...  ...       ...       ...       ...   \n",
            "471 -0.076117  2.110249 -0.040368  ... -0.464887 -0.827979  0.888762   \n",
            "472 -0.274250  0.177180 -0.731056  ... -0.241354 -0.836198  0.690347   \n",
            "473  0.769249 -1.360960  0.374046  ...  2.642220  2.007639  0.156154   \n",
            "474  0.174851  0.187573  0.111584  ... -0.308414 -0.803322  0.583508   \n",
            "475  0.901338 -1.402531  0.277349  ...  2.664573  1.982982  0.079840   \n",
            "\n",
            "          160       161       162       163       164       165       166  \n",
            "0   -0.864767 -1.010863 -0.787632 -0.179463  0.556386 -0.068615  1.139964  \n",
            "1   -0.876232 -0.990545 -0.787632 -0.179463  0.539129 -0.068615  1.139964  \n",
            "2   -0.864767 -1.010863 -0.787632 -0.179463  0.539129 -0.050142  1.139964  \n",
            "3   -0.876232 -1.010863 -0.787632 -0.179463  0.556386 -0.068615  1.139964  \n",
            "4    1.038376  1.305388 -0.893034  0.257970  0.694440 -0.142508  1.139964  \n",
            "..        ...       ...       ...       ...       ...       ...       ...  \n",
            "471  1.313529  1.102208 -0.808713 -0.554406  0.193994 -0.807548 -0.877221  \n",
            "472  0.201451  0.797438 -0.134143  0.382951  0.521873  0.744211 -0.877221  \n",
            "473  1.210347  0.838074 -0.640070 -0.179463  0.124967 -1.287854 -0.877221  \n",
            "474  0.086804  0.736485 -0.134143  0.382951  0.504616  0.744211 -0.877221  \n",
            "475 -0.956485  0.309807  0.266382  1.257818  0.659927  1.150624 -0.877221  \n",
            "\n",
            "[476 rows x 167 columns]\n",
            "Scaling du lieu: \n",
            "           0         1         2         3         4         5         6    \\\n",
            "0    0.366906  0.003367  0.228916  0.147059  0.000000  0.507812  0.502604   \n",
            "1    0.366906  0.026936  0.096386  0.183824  0.000000  0.622396  0.570312   \n",
            "2    0.366906  0.026936  0.096386  0.147059  0.000000  0.507812  0.570312   \n",
            "3    0.366906  0.003367  0.224900  0.183824  0.000000  0.622396  0.502604   \n",
            "4    0.366906  0.003367  0.257028  0.147059  0.000000  0.505208  0.505208   \n",
            "..        ...       ...       ...       ...       ...       ...       ...   \n",
            "471  0.417266  0.000000  0.020080  0.529412  0.061972  0.255208  0.317708   \n",
            "472  0.338129  0.255892  0.108434  0.533088  0.000000  0.250000  1.000000   \n",
            "473  0.374101  0.326599  0.586345  0.051471  0.002817  1.000000  0.010417   \n",
            "474  0.345324  0.474747  0.775100  0.536765  0.000000  0.239583  0.664062   \n",
            "475  0.438849  0.262626  0.570281  0.040441  0.002817  0.986979  0.020833   \n",
            "\n",
            "          7         8         9    ...       157       158       159  \\\n",
            "0    0.341289  0.567639  0.511952  ...  0.631313  0.225641  0.046875   \n",
            "1    0.145585  0.522546  0.575697  ...  0.055556  0.710256  0.046875   \n",
            "2    0.167064  0.522546  0.509960  ...  0.633838  0.230769  0.046875   \n",
            "3    0.324582  0.567639  0.575697  ...  0.055556  0.710256  0.046875   \n",
            "4    0.343675  0.567639  0.509960  ...  0.633838  0.230769  0.581250   \n",
            "..        ...       ...       ...  ...       ...       ...       ...   \n",
            "471  0.556086  0.938992  0.408367  ...  0.196970  0.020513  0.525000   \n",
            "472  0.520286  0.445623  0.308765  ...  0.247475  0.017949  0.484375   \n",
            "473  0.708831  0.053050  0.468127  ...  0.898990  0.905128  0.375000   \n",
            "474  0.601432  0.448276  0.430279  ...  0.232323  0.028205  0.462500   \n",
            "475  0.732697  0.042440  0.454183  ...  0.904040  0.897436  0.359375   \n",
            "\n",
            "          160       161       162       163       164       165  166  \n",
            "0    0.232190  0.292683  0.048689  0.608974  0.776471  0.332248  1.0  \n",
            "1    0.229551  0.295393  0.048689  0.608974  0.773529  0.332248  1.0  \n",
            "2    0.232190  0.292683  0.048689  0.608974  0.773529  0.335505  1.0  \n",
            "3    0.229551  0.292683  0.048689  0.608974  0.776471  0.332248  1.0  \n",
            "4    0.670185  0.601626  0.029963  0.653846  0.800000  0.319218  1.0  \n",
            "..        ...       ...       ...       ...       ...       ...  ...  \n",
            "471  0.733509  0.574526  0.044944  0.570513  0.714706  0.201954  0.0  \n",
            "472  0.477573  0.533875  0.164794  0.666667  0.770588  0.475570  0.0  \n",
            "473  0.709763  0.539295  0.074906  0.608974  0.702941  0.117264  0.0  \n",
            "474  0.451187  0.525745  0.164794  0.666667  0.767647  0.475570  0.0  \n",
            "475  0.211082  0.468835  0.235955  0.756410  0.794118  0.547231  0.0  \n",
            "\n",
            "[476 rows x 167 columns]\n"
          ]
        }
      ]
    },
    {
      "cell_type": "code",
      "source": [
        "def PCA(data, n_component):\n",
        "    # Ma trận hiệp phương sai\n",
        "    covariance_matrix = np.cov(data.T)\n",
        "\n",
        "    # Giá trị kỳ dị và vector của nó\n",
        "    eigenvalues, eigenvectors = np.linalg.eig(covariance_matrix)\n",
        "\n",
        "    # Sắp xếp giá trị\n",
        "    sorted_indices = np.argsort(eigenvalues)[::-1]\n",
        "    eigenvalues = eigenvalues[sorted_indices]\n",
        "    eigenvectors = eigenvectors[:, sorted_indices]\n",
        "\n",
        "    # Chọn số thành chính muốn giữ lại\n",
        "    k = n_component\n",
        "    principal_components = eigenvectors[:, :k]\n",
        "\n",
        "    transformed_data = np.dot(data, principal_components)\n",
        "    print(\"eigenvalues: \", eigenvalues)\n",
        "    print(\"eigenvector: \", eigenvectors)\n",
        "\n",
        "    return transformed_data\n",
        "\n",
        "# Kích  thước của data\n",
        "print(standard_df.shape)\n",
        "\n",
        "# In ra kết quả sau khi PCA khi chọn n_component là 200 và data dùng là standard_df\n",
        "print('Data sau khi PCA: ',PCA(standard_df, 200))\n",
        "\n"
      ],
      "metadata": {
        "colab": {
          "base_uri": "https://localhost:8080/"
        },
        "id": "pjWF-Kr3qAok",
        "outputId": "9123482c-8680-4761-851a-b75448cf666d"
      },
      "execution_count": null,
      "outputs": [
        {
          "output_type": "stream",
          "name": "stdout",
          "text": [
            "(476, 167)\n",
            "eigenvalues:  [5.18912407e+01 2.31614115e+01 1.26896951e+01 8.70167407e+00\n",
            " 8.18405986e+00 6.81216986e+00 5.45722632e+00 5.13118179e+00\n",
            " 3.31330057e+00 2.93624343e+00 2.57815316e+00 2.38456538e+00\n",
            " 2.21836924e+00 2.12858360e+00 1.81707022e+00 1.67647421e+00\n",
            " 1.44502649e+00 1.37958938e+00 1.25950055e+00 1.18773302e+00\n",
            " 1.12413571e+00 1.06105232e+00 1.05265358e+00 9.71230587e-01\n",
            " 9.30723995e-01 8.86183849e-01 8.60660641e-01 8.16617121e-01\n",
            " 8.01913380e-01 7.48508590e-01 6.70353094e-01 6.64226035e-01\n",
            " 6.40028005e-01 5.54818628e-01 5.02487253e-01 4.87770595e-01\n",
            " 4.71648859e-01 4.30446086e-01 4.10162776e-01 3.94971975e-01\n",
            " 3.38261309e-01 3.31739932e-01 3.10343257e-01 2.87700390e-01\n",
            " 2.74507131e-01 2.69940884e-01 2.47250935e-01 2.39282725e-01\n",
            " 2.16301584e-01 2.05604380e-01 1.97294367e-01 1.88355770e-01\n",
            " 1.79152281e-01 1.72879404e-01 1.59503951e-01 1.49205339e-01\n",
            " 1.44283392e-01 1.37736601e-01 1.27966888e-01 1.25115144e-01\n",
            " 1.18168079e-01 1.04647575e-01 1.00968491e-01 9.11529759e-02\n",
            " 8.96483984e-02 8.61639068e-02 7.77190838e-02 7.41276080e-02\n",
            " 6.98012159e-02 6.58756910e-02 6.22873450e-02 5.62823978e-02\n",
            " 5.56934505e-02 5.35295604e-02 5.32093817e-02 5.25009549e-02\n",
            " 4.87063566e-02 4.65109955e-02 4.33424227e-02 4.10803528e-02\n",
            " 4.03419735e-02 3.66544330e-02 3.51834473e-02 3.37243657e-02\n",
            " 3.33081221e-02 3.00637814e-02 2.93037505e-02 2.84125661e-02\n",
            " 2.81375003e-02 2.71514647e-02 2.40027635e-02 2.27490828e-02\n",
            " 2.13982531e-02 2.09576130e-02 2.01144170e-02 1.88932368e-02\n",
            " 1.80177559e-02 1.72753216e-02 1.69067022e-02 1.61791097e-02\n",
            " 1.56127857e-02 1.51067789e-02 1.34651936e-02 1.32203559e-02\n",
            " 1.29940842e-02 1.27795948e-02 1.24717414e-02 1.19755204e-02\n",
            " 1.08729949e-02 9.98054707e-03 9.75264055e-03 9.61051638e-03\n",
            " 9.11644942e-03 8.92728008e-03 7.94142492e-03 7.69659573e-03\n",
            " 6.85293643e-03 6.64489538e-03 6.30773013e-03 6.00190786e-03\n",
            " 5.68211347e-03 5.42677840e-03 5.19084008e-03 5.03517451e-03\n",
            " 4.74981125e-03 4.55001785e-03 4.35102753e-03 4.04323385e-03\n",
            " 3.80813824e-03 3.69370688e-03 3.54750584e-03 3.26529217e-03\n",
            " 3.20410715e-03 2.95715214e-03 2.92113982e-03 2.73241960e-03\n",
            " 2.53888815e-03 2.30975794e-03 2.20453507e-03 2.02726359e-03\n",
            " 1.99032185e-03 1.93428275e-03 1.60996668e-03 1.56159697e-03\n",
            " 1.50356156e-03 1.35921034e-03 1.32044903e-03 1.19164074e-03\n",
            " 1.17275261e-03 1.14029037e-03 1.01240507e-03 9.18185958e-04\n",
            " 8.21851767e-04 7.62612653e-04 7.49554647e-04 6.19653839e-04\n",
            " 5.88485285e-04 5.47555512e-04 5.22537691e-04 4.37193874e-04\n",
            " 3.74498535e-04 3.19180181e-04 2.97508405e-04 2.78226226e-04\n",
            " 1.98361182e-04 1.76114139e-04 1.20939494e-04]\n",
            "eigenvector:  [[-3.68541998e-02 -3.67489162e-03 -1.01256033e-01 ...  1.67258638e-04\n",
            "   5.36816492e-04 -1.94003022e-03]\n",
            " [-6.83436806e-02  1.88388549e-02 -1.71097752e-01 ... -5.15634616e-02\n",
            "  -4.36469411e-04  3.08023205e-04]\n",
            " [-9.48167487e-02 -1.64501956e-03 -1.42840126e-01 ... -4.70662991e-02\n",
            "   3.55945036e-03 -1.38514528e-03]\n",
            " ...\n",
            " [-2.79590536e-03 -3.21243625e-02 -9.13488125e-03 ... -1.39980638e-02\n",
            "   9.39831184e-03 -6.64656689e-04]\n",
            " [ 1.29616923e-02  1.18082198e-02 -6.47176073e-02 ...  1.79460521e-02\n",
            "  -5.93760430e-03  3.36455620e-03]\n",
            " [ 1.39953073e-02 -1.03623571e-02  3.89231018e-02 ...  2.10549586e-03\n",
            "  -2.57905304e-03 -1.26499875e-03]]\n",
            "Data sau khi PCA:  [[-7.69118431e-01  8.64391495e+00  2.57142243e+00 ... -5.84724278e-03\n",
            "   1.78422500e-03  2.06001888e-02]\n",
            " [-7.63795143e-01  8.52366792e+00  2.76919791e+00 ... -3.12689190e-02\n",
            "   1.75389748e-02 -1.35004342e-02]\n",
            " [-2.29101738e-01  8.33938113e+00  2.59634786e+00 ... -1.57911793e-02\n",
            "   8.75792463e-03  1.83600240e-03]\n",
            " ...\n",
            " [-1.05985307e+01 -2.88585173e+00  3.12579663e+00 ...  3.98201984e-03\n",
            "   7.73366981e-03 -4.86930517e-03]\n",
            " [ 3.98919437e+00 -2.93390839e-01 -8.19236628e+00 ... -2.37282143e-03\n",
            "   7.72706074e-03  4.08435768e-02]\n",
            " [-1.05193777e+01 -2.66029122e+00  9.21731901e-01 ... -7.48155568e-03\n",
            "   6.90024637e-03 -2.40523138e-03]]\n"
          ]
        }
      ]
    },
    {
      "cell_type": "code",
      "source": [],
      "metadata": {
        "id": "fB3ZL005rN_o"
      },
      "execution_count": null,
      "outputs": []
    }
  ]
}